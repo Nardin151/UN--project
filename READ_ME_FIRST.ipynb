{
 "cells": [
  {
   "cell_type": "markdown",
   "id": "0fbe5bb7",
   "metadata": {},
   "source": [
    "# 1)FILES OF THE EMOTiON RECOGNITION PROGRAM:-"
   ]
  },
  {
   "cell_type": "markdown",
   "id": "646eb7c4",
   "metadata": {},
   "source": [
    "emotion-classification-cnn-using-keras.ipynb\n",
    "haarcascade_frontalface_default.xml\n",
    "main.py\n",
    "model.h5\n",
    "Emotion_Detection_CNN DATASET\n"
   ]
  },
  {
   "cell_type": "markdown",
   "id": "5a7fb162",
   "metadata": {},
   "source": [
    "# 2) CHATBOT PROGRAM:-"
   ]
  },
  {
   "cell_type": "markdown",
   "id": "86d89e1e",
   "metadata": {},
   "source": [
    "app.py\n",
    "test_model.py\n",
    "train_model.py\n",
    "unique_words.pickle"
   ]
  },
  {
   "cell_type": "markdown",
   "id": "fce1fd30",
   "metadata": {},
   "source": [
    "# 3)Speech Recognition program "
   ]
  },
  {
   "cell_type": "markdown",
   "id": "a19c88ab",
   "metadata": {},
   "source": [
    "Speech_Recog.py "
   ]
  }
 ],
 "metadata": {
  "kernelspec": {
   "display_name": "Python 3",
   "language": "python",
   "name": "python3"
  },
  "language_info": {
   "codemirror_mode": {
    "name": "ipython",
    "version": 3
   },
   "file_extension": ".py",
   "mimetype": "text/x-python",
   "name": "python",
   "nbconvert_exporter": "python",
   "pygments_lexer": "ipython3",
   "version": "3.8.8"
  }
 },
 "nbformat": 4,
 "nbformat_minor": 5
}
